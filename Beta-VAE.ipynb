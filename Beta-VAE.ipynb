{
 "cells": [
  {
   "cell_type": "markdown",
   "metadata": {},
   "source": [
    "# Beta-VAE探索"
   ]
  },
  {
   "cell_type": "markdown",
   "metadata": {},
   "source": [
    "## Mnist数据上的探索"
   ]
  },
  {
   "cell_type": "code",
   "execution_count": 1,
   "metadata": {},
   "outputs": [
    {
     "name": "stderr",
     "output_type": "stream",
     "text": [
      "/Users/zhouwj/miniconda3/envs/py3/lib/python3.6/importlib/_bootstrap.py:219: RuntimeWarning: compiletime version 3.5 of module 'tensorflow.python.framework.fast_tensor_util' does not match runtime version 3.6\n",
      "  return f(*args, **kwds)\n"
     ]
    }
   ],
   "source": [
    "import os\n",
    "import numpy as np\n",
    "import pickle as pkl\n",
    "import tensorflow as tf\n",
    "from tensorflow.contrib import layers\n",
    "from matplotlib import pyplot as plt"
   ]
  },
  {
   "cell_type": "code",
   "execution_count": 2,
   "metadata": {},
   "outputs": [
    {
     "name": "stdout",
     "output_type": "stream",
     "text": [
      "(70000, 784) (70000,)\n"
     ]
    },
    {
     "data": {
      "text/plain": [
       "<matplotlib.image.AxesImage at 0x129f60f60>"
      ]
     },
     "execution_count": 2,
     "metadata": {},
     "output_type": "execute_result"
    },
    {
     "data": {
      "image/png": "[encoded data removed]",
      "text/plain": [
       "<Figure size 432x288 with 1 Axes>"
      ]
     },
     "metadata": {
      "needs_background": "light"
     },
     "output_type": "display_data"
    }
   ],
   "source": [
    "with open('data/mnist.pkl','rb') as f:\n",
    "    ft, lbl = pkl.load(f)\n",
    "print(ft.shape, lbl.shape)\n",
    "\n",
    "#ft = ft*2 -1\n",
    "plt.imshow(np.reshape(ft[1], [28,28]))"
   ]
  },
  {
   "cell_type": "code",
   "execution_count": 3,
   "metadata": {},
   "outputs": [
    {
     "name": "stdout",
     "output_type": "stream",
     "text": [
      "0.0 0.99609375\n"
     ]
    }
   ],
   "source": [
    "print(np.min(ft), np.max(ft))"
   ]
  },
  {
   "cell_type": "code",
   "execution_count": 4,
   "metadata": {},
   "outputs": [],
   "source": [
    "train_ft = ft[:50000,:]\n",
    "train_lbl = lbl[:50000]\n",
    "\n",
    "test_ft = ft[50000:,:]\n",
    "test_lbl = lbl[50000:]"
   ]
  },
  {
   "cell_type": "markdown",
   "metadata": {},
   "source": [
    "### 模型构建"
   ]
  },
  {
   "cell_type": "code",
   "execution_count": 5,
   "metadata": {},
   "outputs": [],
   "source": [
    "class BetaVAE:\n",
    "    def __init__(self, name='bvae', z_dim=10, x_dim=784, beta=0.02, lr=2e-4):\n",
    "        self.name = name\n",
    "        self.z_dim = z_dim\n",
    "        self.x_dim = x_dim\n",
    "        self.beta = beta\n",
    "        self.lr = lr\n",
    "        self.is_training = True\n",
    "        self.save_path = os.path.join('logs', self.name)\n",
    "        self.global_step = 0\n",
    "        \n",
    "        self._build()\n",
    "        \n",
    "        self.saver = tf.train.Saver(max_to_keep=1)\n",
    "        self.sess = tf.Session()\n",
    "        self.sess.run(tf.global_variables_initializer())\n",
    "        self._summary()\n",
    "        \n",
    "    def _build(self): \n",
    "        def _Enc(inp, dim=512):\n",
    "            with tf.variable_scope('Enc', reuse=tf.AUTO_REUSE):\n",
    "                y = layers.fully_connected(inp, dim, activation_fn=tf.nn.relu)\n",
    "                y = layers.fully_connected(y, dim * 2, activation_fn=tf.nn.relu)\n",
    "                z_mu = layers.fully_connected(y, self.z_dim, activation_fn=None)\n",
    "                z_log_sigma_sq = layers.fully_connected(y, self.z_dim, activation_fn=None)\n",
    "                return z_mu, z_log_sigma_sq\n",
    "\n",
    "        def _Dec(z, dim=512):\n",
    "            with tf.variable_scope('Dec', reuse=tf.AUTO_REUSE):\n",
    "                y = layers.fully_connected(z, dim * 2, activation_fn=tf.nn.relu)\n",
    "                y = layers.fully_connected(y, dim, activation_fn=tf.nn.relu)\n",
    "                y = layers.fully_connected(y, self.x_dim, activation_fn=tf.nn.sigmoid)\n",
    "                return y\n",
    "        \n",
    "        with tf.variable_scope(self.name):\n",
    "            self.x_ph = tf.placeholder(tf.float32, [None, self.x_dim], name='x_ph')\n",
    "            self.z_ph = tf.placeholder(tf.float32, [None, self.z_dim], name='z_ph')\n",
    "\n",
    "            z_mu, z_log_sigma_sq = _Enc(self.x_ph)\n",
    "            # sample\n",
    "            epsilon = tf.random_normal(tf.shape(z_mu))\n",
    "            z = z_mu + tf.exp(0.5 * z_log_sigma_sq) * epsilon\n",
    "            self.z_t = z_mu\n",
    "\n",
    "            # decode\n",
    "            self.x_rec = _Dec(z)\n",
    "            self.predict_x = _Dec(self.z_t)\n",
    "            self.predict_zx = _Dec(self.z_ph)\n",
    "             \n",
    "            with tf.variable_scope('Loss'):\n",
    "                self.rec_loss = tf.losses.mean_squared_error(self.x_ph, self.x_rec)\n",
    "                self.kld_loss = -tf.reduce_mean(0.5 * (1 + z_log_sigma_sq - z_mu**2 - tf.exp(z_log_sigma_sq)))\n",
    "                self.loss = self.rec_loss + self.kld_loss * self.beta\n",
    "            with tf.variable_scope('Opt'):\n",
    "                self.train_op = tf.train.AdamOptimizer(learning_rate=self.lr, beta1=0.5).minimize(self.loss)\n",
    "                \n",
    "            # identity\n",
    "            self.z_mu = z_mu\n",
    "            self.z_log_sigma_sq = z_log_sigma_sq\n",
    "                \n",
    "    def _summary(self):\n",
    "        with tf.name_scope('Summary'):\n",
    "            tf.summary.scalar(name='loss', tensor=self.loss)\n",
    "            tf.summary.scalar(name='rec_loss', tensor=self.rec_loss)\n",
    "            tf.summary.scalar(name='kld_loss', tensor=self.kld_loss)\n",
    "            tf.summary.scalar(name='z_mu_mean', tensor=tf.reduce_mean(self.z_mu))\n",
    "            tf.summary.scalar(name='z_sigma_mean', tensor=tf.reduce_mean(self.z_log_sigma_sq))\n",
    "            \n",
    "            self.sum_ops = tf.summary.merge_all()\n",
    "        \n",
    "        self.writer_1 = tf.summary.FileWriter(self.save_path, self.sess.graph)\n",
    "    \n",
    "    def save(self):\n",
    "        self.saver.save(self.sess, os.path.join(self.save_path, 'model'))\n",
    "        \n",
    "    def load(self):\n",
    "        self.saver.restore(self.sess, os.path.join(self.save_path, 'model'))\n",
    "        \n",
    "    def close_sess(self):\n",
    "        self.sess.close()\n",
    "        \n",
    "    def train(self, n_epoch, data, batch_size=64):\n",
    "        N = data.shape[0]\n",
    "        for ep in range(n_epoch):\n",
    "            itr = 0\n",
    "            shuffled_data = data.copy()\n",
    "            np.random.shuffle(shuffled_data)\n",
    "            while True:\n",
    "                if itr * batch_size > N:\n",
    "                    break\n",
    "                ft = shuffled_data[itr * batch_size : (itr+1) * batch_size, :]\n",
    "                _,sum_all,loss, rec, kld = self.sess.run([self.train_op, self.sum_ops, self.loss, self.rec_loss, self.kld_loss], feed_dict={self.x_ph: ft})\n",
    "                \n",
    "                if itr%100==0:\n",
    "                    print('ep:{}\\titr:{}\\tloss:{:.6f}\\trec_loss:{:.6f}\\tkld_loss:{:.6f}'.format(ep, itr, loss,rec, kld))\n",
    "                    self.writer_1.add_summary(sum_all, global_step=self.global_step)  \n",
    "                \n",
    "                itr += 1\n",
    "                self.global_step += 1\n",
    "    \n",
    "    def predict(self, x):\n",
    "        x_rec = self.sess.run(self.predict_x, feed_dict={self.x_ph:x})\n",
    "        return x_rec\n",
    "    \n",
    "    def predict_z(self, z):\n",
    "        x_rec = self.sess.run(self.predict_zx, feed_dict={self.z_ph:z})\n",
    "        return x_rec"
   ]
  },
  {
   "cell_type": "code",
   "execution_count": 6,
   "metadata": {
    "scrolled": true
   },
   "outputs": [
    {
     "name": "stdout",
     "output_type": "stream",
     "text": [
      "ep:0\titr:0\tloss:0.233054\trec_loss:0.232412\tkld_loss:0.032102\n",
      "ep:0\titr:100\tloss:0.068880\trec_loss:0.067888\tkld_loss:0.049621\n",
      "ep:0\titr:200\tloss:0.068415\trec_loss:0.066877\tkld_loss:0.076905\n",
      "ep:0\titr:300\tloss:0.067048\trec_loss:0.064362\tkld_loss:0.134305\n",
      "ep:0\titr:400\tloss:0.066437\trec_loss:0.063296\tkld_loss:0.157089\n",
      "ep:0\titr:500\tloss:0.057314\trec_loss:0.052597\tkld_loss:0.235860\n",
      "ep:0\titr:600\tloss:0.059951\trec_loss:0.053999\tkld_loss:0.297608\n",
      "ep:0\titr:700\tloss:0.053574\trec_loss:0.045678\tkld_loss:0.394833\n",
      "ep:1\titr:0\tloss:0.053090\trec_loss:0.045603\tkld_loss:0.374355\n",
      "ep:1\titr:100\tloss:0.056113\trec_loss:0.047181\tkld_loss:0.446617\n",
      "ep:1\titr:200\tloss:0.055889\trec_loss:0.046806\tkld_loss:0.454123\n",
      "ep:1\titr:300\tloss:0.053079\trec_loss:0.043349\tkld_loss:0.486504\n",
      "ep:1\titr:400\tloss:0.050481\trec_loss:0.041233\tkld_loss:0.462381\n",
      "ep:1\titr:500\tloss:0.050997\trec_loss:0.041377\tkld_loss:0.481017\n",
      "ep:1\titr:600\tloss:0.052135\trec_loss:0.042102\tkld_loss:0.501653\n",
      "ep:1\titr:700\tloss:0.052484\trec_loss:0.041211\tkld_loss:0.563629\n",
      "ep:2\titr:0\tloss:0.052234\trec_loss:0.040476\tkld_loss:0.587915\n",
      "ep:2\titr:100\tloss:0.051275\trec_loss:0.039853\tkld_loss:0.571107\n",
      "ep:2\titr:200\tloss:0.054595\trec_loss:0.043825\tkld_loss:0.538494\n",
      "ep:2\titr:300\tloss:0.049071\trec_loss:0.037564\tkld_loss:0.575334\n",
      "ep:2\titr:400\tloss:0.048618\trec_loss:0.036840\tkld_loss:0.588888\n",
      "ep:2\titr:500\tloss:0.050271\trec_loss:0.038715\tkld_loss:0.577829\n",
      "ep:2\titr:600\tloss:0.051742\trec_loss:0.040078\tkld_loss:0.583183\n",
      "ep:2\titr:700\tloss:0.050105\trec_loss:0.038365\tkld_loss:0.586956\n",
      "ep:3\titr:0\tloss:0.048723\trec_loss:0.035726\tkld_loss:0.649810\n",
      "ep:3\titr:100\tloss:0.049356\trec_loss:0.037223\tkld_loss:0.606628\n",
      "ep:3\titr:200\tloss:0.049067\trec_loss:0.037201\tkld_loss:0.593319\n",
      "ep:3\titr:300\tloss:0.047871\trec_loss:0.035717\tkld_loss:0.607678\n",
      "ep:3\titr:400\tloss:0.053525\trec_loss:0.040314\tkld_loss:0.660538\n",
      "ep:3\titr:500\tloss:0.049781\trec_loss:0.037560\tkld_loss:0.611010\n",
      "ep:3\titr:600\tloss:0.047997\trec_loss:0.035400\tkld_loss:0.629897\n",
      "ep:3\titr:700\tloss:0.048551\trec_loss:0.035663\tkld_loss:0.644429\n",
      "ep:4\titr:0\tloss:0.049197\trec_loss:0.034656\tkld_loss:0.727019\n",
      "ep:4\titr:100\tloss:0.044493\trec_loss:0.032154\tkld_loss:0.616952\n",
      "ep:4\titr:200\tloss:0.047280\trec_loss:0.034803\tkld_loss:0.623822\n",
      "ep:4\titr:300\tloss:0.046974\trec_loss:0.033755\tkld_loss:0.660964\n",
      "ep:4\titr:400\tloss:0.045611\trec_loss:0.032252\tkld_loss:0.667931\n",
      "ep:4\titr:500\tloss:0.047198\trec_loss:0.033343\tkld_loss:0.692756\n",
      "ep:4\titr:600\tloss:0.046847\trec_loss:0.033798\tkld_loss:0.652469\n",
      "ep:4\titr:700\tloss:0.045281\trec_loss:0.032270\tkld_loss:0.650534\n",
      "ep:5\titr:0\tloss:0.047653\trec_loss:0.034752\tkld_loss:0.645046\n",
      "ep:5\titr:100\tloss:0.048390\trec_loss:0.034245\tkld_loss:0.707272\n",
      "ep:5\titr:200\tloss:0.046614\trec_loss:0.033169\tkld_loss:0.672254\n",
      "ep:5\titr:300\tloss:0.049022\trec_loss:0.035854\tkld_loss:0.658378\n",
      "ep:5\titr:400\tloss:0.047493\trec_loss:0.033521\tkld_loss:0.698614\n",
      "ep:5\titr:500\tloss:0.046499\trec_loss:0.033106\tkld_loss:0.669643\n",
      "ep:5\titr:600\tloss:0.045253\trec_loss:0.031364\tkld_loss:0.694422\n",
      "ep:5\titr:700\tloss:0.044444\trec_loss:0.030967\tkld_loss:0.673861\n",
      "ep:6\titr:0\tloss:0.046605\trec_loss:0.032664\tkld_loss:0.697090\n",
      "ep:6\titr:100\tloss:0.043684\trec_loss:0.030064\tkld_loss:0.681014\n",
      "ep:6\titr:200\tloss:0.045752\trec_loss:0.032008\tkld_loss:0.687207\n",
      "ep:6\titr:300\tloss:0.043905\trec_loss:0.030148\tkld_loss:0.687835\n",
      "ep:6\titr:400\tloss:0.044019\trec_loss:0.029495\tkld_loss:0.726230\n",
      "ep:6\titr:500\tloss:0.044627\trec_loss:0.031003\tkld_loss:0.681213\n",
      "ep:6\titr:600\tloss:0.045906\trec_loss:0.030626\tkld_loss:0.763985\n",
      "ep:6\titr:700\tloss:0.046599\trec_loss:0.032312\tkld_loss:0.714377\n",
      "ep:7\titr:0\tloss:0.044431\trec_loss:0.030097\tkld_loss:0.716712\n",
      "ep:7\titr:100\tloss:0.042531\trec_loss:0.028446\tkld_loss:0.704232\n",
      "ep:7\titr:200\tloss:0.047216\trec_loss:0.032926\tkld_loss:0.714485\n",
      "ep:7\titr:300\tloss:0.043172\trec_loss:0.029368\tkld_loss:0.690219\n",
      "ep:7\titr:400\tloss:0.046784\trec_loss:0.033031\tkld_loss:0.687679\n",
      "ep:7\titr:500\tloss:0.047673\trec_loss:0.032859\tkld_loss:0.740698\n",
      "ep:7\titr:600\tloss:0.045478\trec_loss:0.030972\tkld_loss:0.725289\n",
      "ep:7\titr:700\tloss:0.041994\trec_loss:0.027333\tkld_loss:0.733038\n",
      "ep:8\titr:0\tloss:0.044725\trec_loss:0.030101\tkld_loss:0.731229\n",
      "ep:8\titr:100\tloss:0.042881\trec_loss:0.029251\tkld_loss:0.681491\n",
      "ep:8\titr:200\tloss:0.044870\trec_loss:0.030159\tkld_loss:0.735568\n",
      "ep:8\titr:300\tloss:0.047809\trec_loss:0.032890\tkld_loss:0.745935\n",
      "ep:8\titr:400\tloss:0.049956\trec_loss:0.035046\tkld_loss:0.745476\n",
      "ep:8\titr:500\tloss:0.044500\trec_loss:0.030137\tkld_loss:0.718136\n",
      "ep:8\titr:600\tloss:0.047556\trec_loss:0.032767\tkld_loss:0.739473\n",
      "ep:8\titr:700\tloss:0.043836\trec_loss:0.030368\tkld_loss:0.673419\n",
      "ep:9\titr:0\tloss:0.045327\trec_loss:0.031034\tkld_loss:0.714649\n",
      "ep:9\titr:100\tloss:0.044838\trec_loss:0.030311\tkld_loss:0.726339\n",
      "ep:9\titr:200\tloss:0.046896\trec_loss:0.032154\tkld_loss:0.737091\n",
      "ep:9\titr:300\tloss:0.048189\trec_loss:0.033498\tkld_loss:0.734564\n",
      "ep:9\titr:400\tloss:0.045608\trec_loss:0.029933\tkld_loss:0.783727\n",
      "ep:9\titr:500\tloss:0.044689\trec_loss:0.029761\tkld_loss:0.746433\n",
      "ep:9\titr:600\tloss:0.046048\trec_loss:0.031293\tkld_loss:0.737742\n",
      "ep:9\titr:700\tloss:0.044651\trec_loss:0.029770\tkld_loss:0.744072\n",
      "ep:10\titr:0\tloss:0.044132\trec_loss:0.029351\tkld_loss:0.739047\n",
      "ep:10\titr:100\tloss:0.042710\trec_loss:0.027040\tkld_loss:0.783493\n",
      "ep:10\titr:200\tloss:0.043644\trec_loss:0.028789\tkld_loss:0.742737\n",
      "ep:10\titr:300\tloss:0.044449\trec_loss:0.030125\tkld_loss:0.716218\n",
      "ep:10\titr:400\tloss:0.046974\trec_loss:0.032802\tkld_loss:0.708599\n",
      "ep:10\titr:500\tloss:0.042142\trec_loss:0.028201\tkld_loss:0.697069\n",
      "ep:10\titr:600\tloss:0.043984\trec_loss:0.027664\tkld_loss:0.815995\n",
      "ep:10\titr:700\tloss:0.046004\trec_loss:0.031164\tkld_loss:0.742011\n",
      "ep:11\titr:0\tloss:0.042684\trec_loss:0.027246\tkld_loss:0.771891\n",
      "ep:11\titr:100\tloss:0.044038\trec_loss:0.028561\tkld_loss:0.773865\n",
      "ep:11\titr:200\tloss:0.045868\trec_loss:0.030314\tkld_loss:0.777700\n",
      "ep:11\titr:300\tloss:0.042754\trec_loss:0.028238\tkld_loss:0.725793\n",
      "ep:11\titr:400\tloss:0.046018\trec_loss:0.031179\tkld_loss:0.741920\n",
      "ep:11\titr:500\tloss:0.043274\trec_loss:0.028471\tkld_loss:0.740149\n",
      "ep:11\titr:600\tloss:0.045402\trec_loss:0.030556\tkld_loss:0.742318\n",
      "ep:11\titr:700\tloss:0.046511\trec_loss:0.031702\tkld_loss:0.740453\n",
      "ep:12\titr:0\tloss:0.045654\trec_loss:0.030300\tkld_loss:0.767692\n",
      "ep:12\titr:100\tloss:0.045722\trec_loss:0.030935\tkld_loss:0.739302\n",
      "ep:12\titr:200\tloss:0.042125\trec_loss:0.027231\tkld_loss:0.744689\n",
      "ep:12\titr:300\tloss:0.043298\trec_loss:0.028290\tkld_loss:0.750413\n",
      "ep:12\titr:400\tloss:0.040223\trec_loss:0.025625\tkld_loss:0.729947\n",
      "ep:12\titr:500\tloss:0.046545\trec_loss:0.030857\tkld_loss:0.784366\n",
      "ep:12\titr:600\tloss:0.042005\trec_loss:0.027238\tkld_loss:0.738328\n",
      "ep:12\titr:700\tloss:0.046063\trec_loss:0.031517\tkld_loss:0.727329\n",
      "ep:13\titr:0\tloss:0.042270\trec_loss:0.027344\tkld_loss:0.746327\n",
      "ep:13\titr:100\tloss:0.044512\trec_loss:0.028762\tkld_loss:0.787495\n",
      "ep:13\titr:200\tloss:0.044696\trec_loss:0.030051\tkld_loss:0.732208\n",
      "ep:13\titr:300\tloss:0.044487\trec_loss:0.029237\tkld_loss:0.762491\n",
      "ep:13\titr:400\tloss:0.042830\trec_loss:0.026864\tkld_loss:0.798276\n",
      "ep:13\titr:500\tloss:0.044019\trec_loss:0.028447\tkld_loss:0.778626\n",
      "ep:13\titr:600\tloss:0.048266\trec_loss:0.033032\tkld_loss:0.761728\n",
      "ep:13\titr:700\tloss:0.042653\trec_loss:0.027277\tkld_loss:0.768775\n",
      "ep:14\titr:0\tloss:0.043418\trec_loss:0.028287\tkld_loss:0.756555\n",
      "ep:14\titr:100\tloss:0.046225\trec_loss:0.029691\tkld_loss:0.826701\n",
      "ep:14\titr:200\tloss:0.043535\trec_loss:0.028220\tkld_loss:0.765746\n",
      "ep:14\titr:300\tloss:0.044386\trec_loss:0.028584\tkld_loss:0.790092\n",
      "ep:14\titr:400\tloss:0.040670\trec_loss:0.026379\tkld_loss:0.714542\n",
      "ep:14\titr:500\tloss:0.044421\trec_loss:0.028670\tkld_loss:0.787569\n",
      "ep:14\titr:600\tloss:0.043194\trec_loss:0.028034\tkld_loss:0.758023\n",
      "ep:14\titr:700\tloss:0.044244\trec_loss:0.029572\tkld_loss:0.733632\n",
      "ep:15\titr:0\tloss:0.045066\trec_loss:0.029306\tkld_loss:0.788013\n",
      "ep:15\titr:100\tloss:0.043314\trec_loss:0.027535\tkld_loss:0.788908\n",
      "ep:15\titr:200\tloss:0.044349\trec_loss:0.029783\tkld_loss:0.728300\n",
      "ep:15\titr:300\tloss:0.044859\trec_loss:0.028384\tkld_loss:0.823750\n",
      "ep:15\titr:400\tloss:0.043806\trec_loss:0.027700\tkld_loss:0.805322\n",
      "ep:15\titr:500\tloss:0.044146\trec_loss:0.029140\tkld_loss:0.750292\n",
      "ep:15\titr:600\tloss:0.042976\trec_loss:0.026243\tkld_loss:0.836621\n",
      "ep:15\titr:700\tloss:0.042166\trec_loss:0.027656\tkld_loss:0.725492\n",
      "ep:16\titr:0\tloss:0.044690\trec_loss:0.029244\tkld_loss:0.772253\n",
      "ep:16\titr:100\tloss:0.039887\trec_loss:0.024790\tkld_loss:0.754853\n"
     ]
    },
    {
     "name": "stdout",
     "output_type": "stream",
     "text": [
      "ep:16\titr:200\tloss:0.044935\trec_loss:0.029130\tkld_loss:0.790249\n",
      "ep:16\titr:300\tloss:0.042972\trec_loss:0.027825\tkld_loss:0.757338\n",
      "ep:16\titr:400\tloss:0.042792\trec_loss:0.027322\tkld_loss:0.773490\n",
      "ep:16\titr:500\tloss:0.046187\trec_loss:0.029762\tkld_loss:0.821246\n",
      "ep:16\titr:600\tloss:0.043968\trec_loss:0.027930\tkld_loss:0.801935\n",
      "ep:16\titr:700\tloss:0.043156\trec_loss:0.027456\tkld_loss:0.785036\n",
      "ep:17\titr:0\tloss:0.043464\trec_loss:0.027846\tkld_loss:0.780906\n",
      "ep:17\titr:100\tloss:0.043660\trec_loss:0.027718\tkld_loss:0.797099\n",
      "ep:17\titr:200\tloss:0.043080\trec_loss:0.027181\tkld_loss:0.794952\n",
      "ep:17\titr:300\tloss:0.042603\trec_loss:0.027036\tkld_loss:0.778399\n",
      "ep:17\titr:400\tloss:0.040694\trec_loss:0.025905\tkld_loss:0.739428\n",
      "ep:17\titr:500\tloss:0.045023\trec_loss:0.029292\tkld_loss:0.786518\n",
      "ep:17\titr:600\tloss:0.042042\trec_loss:0.026858\tkld_loss:0.759242\n",
      "ep:17\titr:700\tloss:0.043014\trec_loss:0.027566\tkld_loss:0.772430\n",
      "ep:18\titr:0\tloss:0.041445\trec_loss:0.026717\tkld_loss:0.736436\n",
      "ep:18\titr:100\tloss:0.045022\trec_loss:0.029499\tkld_loss:0.776127\n",
      "ep:18\titr:200\tloss:0.043140\trec_loss:0.027089\tkld_loss:0.802555\n",
      "ep:18\titr:300\tloss:0.041249\trec_loss:0.026289\tkld_loss:0.747977\n",
      "ep:18\titr:400\tloss:0.042757\trec_loss:0.027360\tkld_loss:0.769869\n",
      "ep:18\titr:500\tloss:0.044265\trec_loss:0.028429\tkld_loss:0.791794\n",
      "ep:18\titr:600\tloss:0.041373\trec_loss:0.025913\tkld_loss:0.773026\n",
      "ep:18\titr:700\tloss:0.045048\trec_loss:0.029668\tkld_loss:0.769005\n",
      "ep:19\titr:0\tloss:0.046626\trec_loss:0.030148\tkld_loss:0.823908\n",
      "ep:19\titr:100\tloss:0.043744\trec_loss:0.027466\tkld_loss:0.813915\n",
      "ep:19\titr:200\tloss:0.042776\trec_loss:0.027290\tkld_loss:0.774278\n",
      "ep:19\titr:300\tloss:0.042795\trec_loss:0.026193\tkld_loss:0.830098\n",
      "ep:19\titr:400\tloss:0.043751\trec_loss:0.027385\tkld_loss:0.818297\n",
      "ep:19\titr:500\tloss:0.041241\trec_loss:0.024994\tkld_loss:0.812336\n",
      "ep:19\titr:600\tloss:0.040742\trec_loss:0.025280\tkld_loss:0.773097\n",
      "ep:19\titr:700\tloss:0.042576\trec_loss:0.027096\tkld_loss:0.773993\n",
      "ep:20\titr:0\tloss:0.044357\trec_loss:0.027899\tkld_loss:0.822909\n",
      "ep:20\titr:100\tloss:0.043634\trec_loss:0.027441\tkld_loss:0.809637\n",
      "ep:20\titr:200\tloss:0.043247\trec_loss:0.027017\tkld_loss:0.811515\n",
      "ep:20\titr:300\tloss:0.044762\trec_loss:0.028046\tkld_loss:0.835818\n",
      "ep:20\titr:400\tloss:0.041720\trec_loss:0.025773\tkld_loss:0.797324\n",
      "ep:20\titr:500\tloss:0.041072\trec_loss:0.025633\tkld_loss:0.771981\n",
      "ep:20\titr:600\tloss:0.042894\trec_loss:0.026578\tkld_loss:0.815820\n",
      "ep:20\titr:700\tloss:0.042517\trec_loss:0.026877\tkld_loss:0.782013\n",
      "ep:21\titr:0\tloss:0.044251\trec_loss:0.027868\tkld_loss:0.819154\n",
      "ep:21\titr:100\tloss:0.039899\trec_loss:0.024607\tkld_loss:0.764619\n",
      "ep:21\titr:200\tloss:0.042799\trec_loss:0.026333\tkld_loss:0.823299\n",
      "ep:21\titr:300\tloss:0.042804\trec_loss:0.026810\tkld_loss:0.799727\n",
      "ep:21\titr:400\tloss:0.042408\trec_loss:0.026758\tkld_loss:0.782518\n",
      "ep:21\titr:500\tloss:0.043885\trec_loss:0.028461\tkld_loss:0.771237\n",
      "ep:21\titr:600\tloss:0.041575\trec_loss:0.024965\tkld_loss:0.830472\n",
      "ep:21\titr:700\tloss:0.044453\trec_loss:0.028369\tkld_loss:0.804199\n",
      "ep:22\titr:0\tloss:0.043721\trec_loss:0.027793\tkld_loss:0.796406\n",
      "ep:22\titr:100\tloss:0.041773\trec_loss:0.025901\tkld_loss:0.793632\n",
      "ep:22\titr:200\tloss:0.044102\trec_loss:0.027436\tkld_loss:0.833341\n",
      "ep:22\titr:300\tloss:0.042652\trec_loss:0.026544\tkld_loss:0.805429\n",
      "ep:22\titr:400\tloss:0.044279\trec_loss:0.028664\tkld_loss:0.780729\n",
      "ep:22\titr:500\tloss:0.043365\trec_loss:0.027623\tkld_loss:0.787078\n",
      "ep:22\titr:600\tloss:0.045187\trec_loss:0.028618\tkld_loss:0.828472\n",
      "ep:22\titr:700\tloss:0.042676\trec_loss:0.026443\tkld_loss:0.811689\n",
      "ep:23\titr:0\tloss:0.043430\trec_loss:0.026998\tkld_loss:0.821591\n",
      "ep:23\titr:100\tloss:0.045137\trec_loss:0.029214\tkld_loss:0.796182\n",
      "ep:23\titr:200\tloss:0.042675\trec_loss:0.026608\tkld_loss:0.803331\n",
      "ep:23\titr:300\tloss:0.043019\trec_loss:0.026985\tkld_loss:0.801674\n",
      "ep:23\titr:400\tloss:0.040973\trec_loss:0.024598\tkld_loss:0.818716\n",
      "ep:23\titr:500\tloss:0.042507\trec_loss:0.026770\tkld_loss:0.786850\n",
      "ep:23\titr:600\tloss:0.042781\trec_loss:0.027130\tkld_loss:0.782558\n",
      "ep:23\titr:700\tloss:0.042844\trec_loss:0.027210\tkld_loss:0.781709\n",
      "ep:24\titr:0\tloss:0.042599\trec_loss:0.026671\tkld_loss:0.796448\n",
      "ep:24\titr:100\tloss:0.042489\trec_loss:0.026982\tkld_loss:0.775381\n",
      "ep:24\titr:200\tloss:0.044344\trec_loss:0.028132\tkld_loss:0.810612\n",
      "ep:24\titr:300\tloss:0.041434\trec_loss:0.026028\tkld_loss:0.770290\n",
      "ep:24\titr:400\tloss:0.044682\trec_loss:0.028005\tkld_loss:0.833877\n",
      "ep:24\titr:500\tloss:0.043327\trec_loss:0.027073\tkld_loss:0.812711\n",
      "ep:24\titr:600\tloss:0.043591\trec_loss:0.026465\tkld_loss:0.856284\n",
      "ep:24\titr:700\tloss:0.040828\trec_loss:0.024513\tkld_loss:0.815724\n",
      "ep:25\titr:0\tloss:0.041103\trec_loss:0.025362\tkld_loss:0.787042\n",
      "ep:25\titr:100\tloss:0.044999\trec_loss:0.029261\tkld_loss:0.786908\n",
      "ep:25\titr:200\tloss:0.042470\trec_loss:0.025872\tkld_loss:0.829898\n",
      "ep:25\titr:300\tloss:0.043195\trec_loss:0.026768\tkld_loss:0.821364\n",
      "ep:25\titr:400\tloss:0.042569\trec_loss:0.026770\tkld_loss:0.789978\n",
      "ep:25\titr:500\tloss:0.043542\trec_loss:0.027102\tkld_loss:0.822026\n",
      "ep:25\titr:600\tloss:0.043586\trec_loss:0.027707\tkld_loss:0.793976\n",
      "ep:25\titr:700\tloss:0.043117\trec_loss:0.027157\tkld_loss:0.798015\n",
      "ep:26\titr:0\tloss:0.042184\trec_loss:0.026409\tkld_loss:0.788788\n",
      "ep:26\titr:100\tloss:0.044423\trec_loss:0.028728\tkld_loss:0.784723\n",
      "ep:26\titr:200\tloss:0.042466\trec_loss:0.025898\tkld_loss:0.828407\n",
      "ep:26\titr:300\tloss:0.042947\trec_loss:0.026637\tkld_loss:0.815482\n",
      "ep:26\titr:400\tloss:0.041367\trec_loss:0.024730\tkld_loss:0.831825\n",
      "ep:26\titr:500\tloss:0.043301\trec_loss:0.026822\tkld_loss:0.823965\n",
      "ep:26\titr:600\tloss:0.043059\trec_loss:0.026617\tkld_loss:0.822067\n",
      "ep:26\titr:700\tloss:0.042521\trec_loss:0.026476\tkld_loss:0.802224\n",
      "ep:27\titr:0\tloss:0.041476\trec_loss:0.025095\tkld_loss:0.819048\n",
      "ep:27\titr:100\tloss:0.042660\trec_loss:0.026138\tkld_loss:0.826083\n",
      "ep:27\titr:200\tloss:0.043737\trec_loss:0.027730\tkld_loss:0.800352\n",
      "ep:27\titr:300\tloss:0.043447\trec_loss:0.027004\tkld_loss:0.822148\n",
      "ep:27\titr:400\tloss:0.041973\trec_loss:0.024965\tkld_loss:0.850388\n",
      "ep:27\titr:500\tloss:0.041978\trec_loss:0.025764\tkld_loss:0.810720\n",
      "ep:27\titr:600\tloss:0.041183\trec_loss:0.025037\tkld_loss:0.807341\n",
      "ep:27\titr:700\tloss:0.042279\trec_loss:0.025616\tkld_loss:0.833163\n",
      "ep:28\titr:0\tloss:0.040922\trec_loss:0.024813\tkld_loss:0.805447\n",
      "ep:28\titr:100\tloss:0.041312\trec_loss:0.025137\tkld_loss:0.808737\n",
      "ep:28\titr:200\tloss:0.044493\trec_loss:0.028541\tkld_loss:0.797591\n",
      "ep:28\titr:300\tloss:0.041366\trec_loss:0.025119\tkld_loss:0.812339\n",
      "ep:28\titr:400\tloss:0.043585\trec_loss:0.026522\tkld_loss:0.853173\n",
      "ep:28\titr:500\tloss:0.042794\trec_loss:0.026364\tkld_loss:0.821504\n",
      "ep:28\titr:600\tloss:0.039661\trec_loss:0.023509\tkld_loss:0.807597\n",
      "ep:28\titr:700\tloss:0.043749\trec_loss:0.027037\tkld_loss:0.835614\n",
      "ep:29\titr:0\tloss:0.042974\trec_loss:0.025913\tkld_loss:0.853069\n",
      "ep:29\titr:100\tloss:0.044232\trec_loss:0.027401\tkld_loss:0.841531\n",
      "ep:29\titr:200\tloss:0.040067\trec_loss:0.024289\tkld_loss:0.788933\n",
      "ep:29\titr:300\tloss:0.041395\trec_loss:0.025553\tkld_loss:0.792099\n",
      "ep:29\titr:400\tloss:0.040898\trec_loss:0.024609\tkld_loss:0.814440\n",
      "ep:29\titr:500\tloss:0.043446\trec_loss:0.026801\tkld_loss:0.832220\n",
      "ep:29\titr:600\tloss:0.044095\trec_loss:0.027367\tkld_loss:0.836413\n",
      "ep:29\titr:700\tloss:0.044859\trec_loss:0.028686\tkld_loss:0.808619\n",
      "ep:30\titr:0\tloss:0.042473\trec_loss:0.025133\tkld_loss:0.866984\n",
      "ep:30\titr:100\tloss:0.043686\trec_loss:0.027500\tkld_loss:0.809341\n",
      "ep:30\titr:200\tloss:0.044483\trec_loss:0.027651\tkld_loss:0.841605\n",
      "ep:30\titr:300\tloss:0.043072\trec_loss:0.026702\tkld_loss:0.818470\n",
      "ep:30\titr:400\tloss:0.041494\trec_loss:0.025277\tkld_loss:0.810841\n",
      "ep:30\titr:500\tloss:0.044199\trec_loss:0.027463\tkld_loss:0.836782\n",
      "ep:30\titr:600\tloss:0.041366\trec_loss:0.024933\tkld_loss:0.821638\n",
      "ep:30\titr:700\tloss:0.041426\trec_loss:0.025434\tkld_loss:0.799621\n",
      "ep:31\titr:0\tloss:0.042780\trec_loss:0.026428\tkld_loss:0.817574\n",
      "ep:31\titr:100\tloss:0.041447\trec_loss:0.024995\tkld_loss:0.822595\n",
      "ep:31\titr:200\tloss:0.045362\trec_loss:0.029124\tkld_loss:0.811892\n",
      "ep:31\titr:300\tloss:0.039643\trec_loss:0.023078\tkld_loss:0.828226\n",
      "ep:31\titr:400\tloss:0.042573\trec_loss:0.025657\tkld_loss:0.845816\n",
      "ep:31\titr:500\tloss:0.042709\trec_loss:0.025691\tkld_loss:0.850906\n",
      "ep:31\titr:600\tloss:0.044552\trec_loss:0.027219\tkld_loss:0.866659\n",
      "ep:31\titr:700\tloss:0.044743\trec_loss:0.027798\tkld_loss:0.847236\n",
      "ep:32\titr:0\tloss:0.041984\trec_loss:0.025944\tkld_loss:0.802003\n",
      "ep:32\titr:100\tloss:0.043958\trec_loss:0.027233\tkld_loss:0.836217\n",
      "ep:32\titr:200\tloss:0.040222\trec_loss:0.024327\tkld_loss:0.794764\n"
     ]
    },
    {
     "name": "stdout",
     "output_type": "stream",
     "text": [
      "ep:32\titr:300\tloss:0.041113\trec_loss:0.024851\tkld_loss:0.813113\n",
      "ep:32\titr:400\tloss:0.043015\trec_loss:0.025917\tkld_loss:0.854912\n",
      "ep:32\titr:500\tloss:0.041102\trec_loss:0.025636\tkld_loss:0.773328\n",
      "ep:32\titr:600\tloss:0.040778\trec_loss:0.023714\tkld_loss:0.853171\n",
      "ep:32\titr:700\tloss:0.043256\trec_loss:0.026076\tkld_loss:0.858999\n",
      "ep:33\titr:0\tloss:0.042118\trec_loss:0.026018\tkld_loss:0.805012\n",
      "ep:33\titr:100\tloss:0.041786\trec_loss:0.024724\tkld_loss:0.853132\n",
      "ep:33\titr:200\tloss:0.041126\trec_loss:0.025442\tkld_loss:0.784164\n",
      "ep:33\titr:300\tloss:0.041545\trec_loss:0.025494\tkld_loss:0.802512\n",
      "ep:33\titr:400\tloss:0.041746\trec_loss:0.025817\tkld_loss:0.796485\n",
      "ep:33\titr:500\tloss:0.044360\trec_loss:0.027013\tkld_loss:0.867349\n",
      "ep:33\titr:600\tloss:0.039115\trec_loss:0.022866\tkld_loss:0.812422\n",
      "ep:33\titr:700\tloss:0.044899\trec_loss:0.027803\tkld_loss:0.854833\n",
      "ep:34\titr:0\tloss:0.040778\trec_loss:0.024125\tkld_loss:0.832632\n",
      "ep:34\titr:100\tloss:0.041723\trec_loss:0.025436\tkld_loss:0.814377\n",
      "ep:34\titr:200\tloss:0.040993\trec_loss:0.024503\tkld_loss:0.824501\n",
      "ep:34\titr:300\tloss:0.042013\trec_loss:0.025855\tkld_loss:0.807881\n",
      "ep:34\titr:400\tloss:0.041387\trec_loss:0.025183\tkld_loss:0.810180\n",
      "ep:34\titr:500\tloss:0.042500\trec_loss:0.026728\tkld_loss:0.788612\n",
      "ep:34\titr:600\tloss:0.040894\trec_loss:0.024610\tkld_loss:0.814186\n",
      "ep:34\titr:700\tloss:0.043632\trec_loss:0.026703\tkld_loss:0.846490\n",
      "ep:35\titr:0\tloss:0.041116\trec_loss:0.024301\tkld_loss:0.840747\n",
      "ep:35\titr:100\tloss:0.040695\trec_loss:0.024364\tkld_loss:0.816556\n",
      "ep:35\titr:200\tloss:0.042884\trec_loss:0.026181\tkld_loss:0.835156\n",
      "ep:35\titr:300\tloss:0.042148\trec_loss:0.026099\tkld_loss:0.802452\n",
      "ep:35\titr:400\tloss:0.041868\trec_loss:0.024980\tkld_loss:0.844370\n",
      "ep:35\titr:500\tloss:0.041800\trec_loss:0.024310\tkld_loss:0.874508\n",
      "ep:35\titr:600\tloss:0.043642\trec_loss:0.026189\tkld_loss:0.872606\n",
      "ep:35\titr:700\tloss:0.042226\trec_loss:0.024797\tkld_loss:0.871472\n",
      "ep:36\titr:0\tloss:0.044249\trec_loss:0.026533\tkld_loss:0.885806\n",
      "ep:36\titr:100\tloss:0.042387\trec_loss:0.026214\tkld_loss:0.808665\n",
      "ep:36\titr:200\tloss:0.041515\trec_loss:0.025285\tkld_loss:0.811520\n",
      "ep:36\titr:300\tloss:0.041369\trec_loss:0.023970\tkld_loss:0.869966\n",
      "ep:36\titr:400\tloss:0.042840\trec_loss:0.025860\tkld_loss:0.849020\n",
      "ep:36\titr:500\tloss:0.044268\trec_loss:0.026991\tkld_loss:0.863845\n",
      "ep:36\titr:600\tloss:0.042846\trec_loss:0.026766\tkld_loss:0.804028\n",
      "ep:36\titr:700\tloss:0.041223\trec_loss:0.024749\tkld_loss:0.823685\n",
      "ep:37\titr:0\tloss:0.043932\trec_loss:0.026671\tkld_loss:0.863037\n",
      "ep:37\titr:100\tloss:0.040743\trec_loss:0.025000\tkld_loss:0.787165\n",
      "ep:37\titr:200\tloss:0.043073\trec_loss:0.025850\tkld_loss:0.861182\n",
      "ep:37\titr:300\tloss:0.044563\trec_loss:0.027194\tkld_loss:0.868481\n",
      "ep:37\titr:400\tloss:0.042041\trec_loss:0.024432\tkld_loss:0.880457\n",
      "ep:37\titr:500\tloss:0.041385\trec_loss:0.024456\tkld_loss:0.846482\n",
      "ep:37\titr:600\tloss:0.041161\trec_loss:0.025093\tkld_loss:0.803375\n",
      "ep:37\titr:700\tloss:0.041936\trec_loss:0.024997\tkld_loss:0.846970\n",
      "ep:38\titr:0\tloss:0.040818\trec_loss:0.024984\tkld_loss:0.791713\n",
      "ep:38\titr:100\tloss:0.042390\trec_loss:0.025451\tkld_loss:0.846941\n",
      "ep:38\titr:200\tloss:0.039736\trec_loss:0.023291\tkld_loss:0.822257\n",
      "ep:38\titr:300\tloss:0.039523\trec_loss:0.023131\tkld_loss:0.819628\n",
      "ep:38\titr:400\tloss:0.039285\trec_loss:0.022761\tkld_loss:0.826215\n",
      "ep:38\titr:500\tloss:0.039895\trec_loss:0.023851\tkld_loss:0.802233\n",
      "ep:38\titr:600\tloss:0.040023\trec_loss:0.023925\tkld_loss:0.804925\n",
      "ep:38\titr:700\tloss:0.041721\trec_loss:0.024778\tkld_loss:0.847145\n",
      "ep:39\titr:0\tloss:0.039233\trec_loss:0.023143\tkld_loss:0.804486\n",
      "ep:39\titr:100\tloss:0.042159\trec_loss:0.025363\tkld_loss:0.839798\n",
      "ep:39\titr:200\tloss:0.043911\trec_loss:0.026938\tkld_loss:0.848647\n",
      "ep:39\titr:300\tloss:0.039830\trec_loss:0.023082\tkld_loss:0.837376\n",
      "ep:39\titr:400\tloss:0.041163\trec_loss:0.024060\tkld_loss:0.855131\n",
      "ep:39\titr:500\tloss:0.041721\trec_loss:0.024751\tkld_loss:0.848494\n",
      "ep:39\titr:600\tloss:0.042379\trec_loss:0.025317\tkld_loss:0.853087\n",
      "ep:39\titr:700\tloss:0.039831\trec_loss:0.023077\tkld_loss:0.837675\n",
      "ep:40\titr:0\tloss:0.040374\trec_loss:0.024115\tkld_loss:0.812931\n",
      "ep:40\titr:100\tloss:0.042079\trec_loss:0.024932\tkld_loss:0.857332\n",
      "ep:40\titr:200\tloss:0.041204\trec_loss:0.023870\tkld_loss:0.866728\n",
      "ep:40\titr:300\tloss:0.041965\trec_loss:0.025628\tkld_loss:0.816846\n",
      "ep:40\titr:400\tloss:0.040894\trec_loss:0.024021\tkld_loss:0.843681\n",
      "ep:40\titr:500\tloss:0.042889\trec_loss:0.025929\tkld_loss:0.848008\n",
      "ep:40\titr:600\tloss:0.040588\trec_loss:0.024361\tkld_loss:0.811359\n",
      "ep:40\titr:700\tloss:0.041657\trec_loss:0.024690\tkld_loss:0.848343\n",
      "ep:41\titr:0\tloss:0.041704\trec_loss:0.025416\tkld_loss:0.814388\n",
      "ep:41\titr:100\tloss:0.040587\trec_loss:0.023944\tkld_loss:0.832163\n",
      "ep:41\titr:200\tloss:0.043313\trec_loss:0.026606\tkld_loss:0.835322\n",
      "ep:41\titr:300\tloss:0.041655\trec_loss:0.024693\tkld_loss:0.848070\n",
      "ep:41\titr:400\tloss:0.039919\trec_loss:0.023505\tkld_loss:0.820685\n",
      "ep:41\titr:500\tloss:0.042034\trec_loss:0.025839\tkld_loss:0.809751\n",
      "ep:41\titr:600\tloss:0.040677\trec_loss:0.024041\tkld_loss:0.831822\n",
      "ep:41\titr:700\tloss:0.043958\trec_loss:0.027963\tkld_loss:0.799732\n",
      "ep:42\titr:0\tloss:0.041460\trec_loss:0.023931\tkld_loss:0.876452\n",
      "ep:42\titr:100\tloss:0.042026\trec_loss:0.024416\tkld_loss:0.880532\n",
      "ep:42\titr:200\tloss:0.042346\trec_loss:0.024973\tkld_loss:0.868646\n",
      "ep:42\titr:300\tloss:0.042396\trec_loss:0.025258\tkld_loss:0.856901\n",
      "ep:42\titr:400\tloss:0.044060\trec_loss:0.026592\tkld_loss:0.873376\n",
      "ep:42\titr:500\tloss:0.044151\trec_loss:0.027358\tkld_loss:0.839661\n",
      "ep:42\titr:600\tloss:0.041806\trec_loss:0.024135\tkld_loss:0.883528\n",
      "ep:42\titr:700\tloss:0.041571\trec_loss:0.024688\tkld_loss:0.844120\n",
      "ep:43\titr:0\tloss:0.041272\trec_loss:0.024210\tkld_loss:0.853107\n",
      "ep:43\titr:100\tloss:0.042915\trec_loss:0.025932\tkld_loss:0.849169\n",
      "ep:43\titr:200\tloss:0.040318\trec_loss:0.023487\tkld_loss:0.841527\n",
      "ep:43\titr:300\tloss:0.038630\trec_loss:0.022452\tkld_loss:0.808915\n",
      "ep:43\titr:400\tloss:0.043376\trec_loss:0.026355\tkld_loss:0.851064\n",
      "ep:43\titr:500\tloss:0.042735\trec_loss:0.025416\tkld_loss:0.865959\n",
      "ep:43\titr:600\tloss:0.041532\trec_loss:0.024701\tkld_loss:0.841565\n",
      "ep:43\titr:700\tloss:0.044740\trec_loss:0.027330\tkld_loss:0.870480\n",
      "ep:44\titr:0\tloss:0.041202\trec_loss:0.023876\tkld_loss:0.866332\n",
      "ep:44\titr:100\tloss:0.042980\trec_loss:0.025178\tkld_loss:0.890091\n",
      "ep:44\titr:200\tloss:0.039939\trec_loss:0.022841\tkld_loss:0.854940\n",
      "ep:44\titr:300\tloss:0.041798\trec_loss:0.025395\tkld_loss:0.820151\n",
      "ep:44\titr:400\tloss:0.039868\trec_loss:0.022973\tkld_loss:0.844757\n",
      "ep:44\titr:500\tloss:0.042879\trec_loss:0.025505\tkld_loss:0.868696\n",
      "ep:44\titr:600\tloss:0.044545\trec_loss:0.026655\tkld_loss:0.894504\n",
      "ep:44\titr:700\tloss:0.040075\trec_loss:0.022959\tkld_loss:0.855827\n",
      "ep:45\titr:0\tloss:0.042665\trec_loss:0.025843\tkld_loss:0.841091\n",
      "ep:45\titr:100\tloss:0.040654\trec_loss:0.023991\tkld_loss:0.833128\n",
      "ep:45\titr:200\tloss:0.040856\trec_loss:0.023255\tkld_loss:0.880046\n",
      "ep:45\titr:300\tloss:0.041873\trec_loss:0.023824\tkld_loss:0.902476\n",
      "ep:45\titr:400\tloss:0.040324\trec_loss:0.023819\tkld_loss:0.825218\n",
      "ep:45\titr:500\tloss:0.041281\trec_loss:0.023926\tkld_loss:0.867742\n",
      "ep:45\titr:600\tloss:0.042702\trec_loss:0.025751\tkld_loss:0.847512\n",
      "ep:45\titr:700\tloss:0.042774\trec_loss:0.025371\tkld_loss:0.870176\n",
      "ep:46\titr:0\tloss:0.042660\trec_loss:0.024967\tkld_loss:0.884624\n",
      "ep:46\titr:100\tloss:0.038860\trec_loss:0.022310\tkld_loss:0.827494\n",
      "ep:46\titr:200\tloss:0.041779\trec_loss:0.024730\tkld_loss:0.852457\n",
      "ep:46\titr:300\tloss:0.044373\trec_loss:0.025921\tkld_loss:0.922572\n",
      "ep:46\titr:400\tloss:0.043054\trec_loss:0.025486\tkld_loss:0.878438\n",
      "ep:46\titr:500\tloss:0.044944\trec_loss:0.027719\tkld_loss:0.861260\n",
      "ep:46\titr:600\tloss:0.040333\trec_loss:0.022582\tkld_loss:0.887571\n",
      "ep:46\titr:700\tloss:0.040197\trec_loss:0.023786\tkld_loss:0.820549\n",
      "ep:47\titr:0\tloss:0.042372\trec_loss:0.024204\tkld_loss:0.908396\n",
      "ep:47\titr:100\tloss:0.042234\trec_loss:0.025019\tkld_loss:0.860774\n",
      "ep:47\titr:200\tloss:0.042486\trec_loss:0.025407\tkld_loss:0.853953\n",
      "ep:47\titr:300\tloss:0.041028\trec_loss:0.024797\tkld_loss:0.811566\n",
      "ep:47\titr:400\tloss:0.045388\trec_loss:0.027427\tkld_loss:0.898026\n",
      "ep:47\titr:500\tloss:0.041104\trec_loss:0.024490\tkld_loss:0.830696\n",
      "ep:47\titr:600\tloss:0.043138\trec_loss:0.026375\tkld_loss:0.838136\n",
      "ep:47\titr:700\tloss:0.038761\trec_loss:0.021389\tkld_loss:0.868572\n",
      "ep:48\titr:0\tloss:0.045401\trec_loss:0.026915\tkld_loss:0.924315\n",
      "ep:48\titr:100\tloss:0.039747\trec_loss:0.022614\tkld_loss:0.856645\n",
      "ep:48\titr:200\tloss:0.041488\trec_loss:0.024286\tkld_loss:0.860065\n",
      "ep:48\titr:300\tloss:0.042678\trec_loss:0.025717\tkld_loss:0.848039\n"
     ]
    },
    {
     "name": "stdout",
     "output_type": "stream",
     "text": [
      "ep:48\titr:400\tloss:0.041699\trec_loss:0.025409\tkld_loss:0.814495\n",
      "ep:48\titr:500\tloss:0.044504\trec_loss:0.027333\tkld_loss:0.858558\n",
      "ep:48\titr:600\tloss:0.043392\trec_loss:0.025890\tkld_loss:0.875107\n",
      "ep:48\titr:700\tloss:0.039482\trec_loss:0.022860\tkld_loss:0.831101\n",
      "ep:49\titr:0\tloss:0.040113\trec_loss:0.023318\tkld_loss:0.839709\n",
      "ep:49\titr:100\tloss:0.043019\trec_loss:0.025240\tkld_loss:0.888939\n",
      "ep:49\titr:200\tloss:0.040255\trec_loss:0.023973\tkld_loss:0.814113\n",
      "ep:49\titr:300\tloss:0.042608\trec_loss:0.025090\tkld_loss:0.875901\n",
      "ep:49\titr:400\tloss:0.039969\trec_loss:0.022940\tkld_loss:0.851462\n",
      "ep:49\titr:500\tloss:0.041241\trec_loss:0.024212\tkld_loss:0.851460\n",
      "ep:49\titr:600\tloss:0.041846\trec_loss:0.023785\tkld_loss:0.903088\n",
      "ep:49\titr:700\tloss:0.040958\trec_loss:0.024273\tkld_loss:0.834218\n"
     ]
    }
   ],
   "source": [
    "model = BetaVAE()\n",
    "model.train(n_epoch=50, data=train_ft)"
   ]
  },
  {
   "cell_type": "code",
   "execution_count": 7,
   "metadata": {},
   "outputs": [
    {
     "data": {
      "text/plain": [
       "<matplotlib.image.AxesImage at 0x101b57710>"
      ]
     },
     "execution_count": 7,
     "metadata": {},
     "output_type": "execute_result"
    },
    {
     "data": {
      "image/png": "[encoded data removed]",
      "text/plain": [
       "<Figure size 432x288 with 2 Axes>"
      ]
     },
     "metadata": {
      "needs_background": "light"
     },
     "output_type": "display_data"
    }
   ],
   "source": [
    "x = test_ft[100,:]\n",
    "x_rec = model.predict(np.reshape(x,[1,-1]))\n",
    "\n",
    "plt.subplot(1,2,1)\n",
    "plt.imshow(np.reshape(x,[28,28]))\n",
    "plt.subplot(1,2,2)\n",
    "plt.imshow(np.reshape(x_rec,[28,28]))\n"
   ]
  },
  {
   "cell_type": "code",
   "execution_count": 8,
   "metadata": {},
   "outputs": [
    {
     "data": {
      "text/plain": [
       "<matplotlib.image.AxesImage at 0x12c351cf8>"
      ]
     },
     "execution_count": 8,
     "metadata": {},
     "output_type": "execute_result"
    },
    {
     "data": {
      "image/png": "[encoded data removed]",
      "text/plain": [
       "<Figure size 432x288 with 2 Axes>"
      ]
     },
     "metadata": {
      "needs_background": "light"
     },
     "output_type": "display_data"
    }
   ],
   "source": [
    "x = test_ft[108,:]\n",
    "x_rec = model.predict(np.reshape(x,[1,-1]))\n",
    "\n",
    "plt.subplot(1,2,1)\n",
    "plt.imshow(np.reshape(x,[28,28]))\n",
    "plt.subplot(1,2,2)\n",
    "plt.imshow(np.reshape(x_rec,[28,28]))\n"
   ]
  },
  {
   "cell_type": "code",
   "execution_count": 9,
   "metadata": {},
   "outputs": [
    {
     "data": {
      "image/png": "[encoded data removed]",
      "text/plain": [
       "<Figure size 432x288 with 50 Axes>"
      ]
     },
     "metadata": {
      "needs_background": "light"
     },
     "output_type": "display_data"
    }
   ],
   "source": [
    "for i in range(10):\n",
    "    for j in range(5):\n",
    "        z = np.random.normal(0,1, size=[1,10])\n",
    "        x_rec = model.predict_z(z)\n",
    "        plt.subplot(10,5,i*5+j+1)\n",
    "        plt.imshow(np.reshape(x_rec,[28,28]))"
   ]
  },
  {
   "cell_type": "markdown",
   "metadata": {},
   "source": [
    "### 结果分析"
   ]
  },
  {
   "cell_type": "markdown",
   "metadata": {},
   "source": [
    "之前实验一直不OK，最后发现Beta的值设置的太大了。\n",
    "经验来看（不保证对），最终收敛的时候，kl项差不多在0.7左右可能会比较好。"
   ]
  },
  {
   "cell_type": "code",
   "execution_count": null,
   "metadata": {},
   "outputs": [],
   "source": []
  }
 ],
 "metadata": {
  "kernelspec": {
   "display_name": "Python 3.6.5 64-bit ('py3': conda)",
   "language": "python",
   "name": "python36564bitpy3conda1bfcf43959c344288aa527bb0a9c29f6"
  },
  "language_info": {
   "codemirror_mode": {
    "name": "ipython",
    "version": 3
   },
   "file_extension": ".py",
   "mimetype": "text/x-python",
   "name": "python",
   "nbconvert_exporter": "python",
   "pygments_lexer": "ipython3",
   "version": "3.6.5"
  },
  "toc": {
   "base_numbering": 1,
   "nav_menu": {},
   "number_sections": true,
   "sideBar": true,
   "skip_h1_title": false,
   "title_cell": "Table of Contents",
   "title_sidebar": "Contents",
   "toc_cell": false,
   "toc_position": {},
   "toc_section_display": true,
   "toc_window_display": true
  }
 },
 "nbformat": 4,
 "nbformat_minor": 4
}
